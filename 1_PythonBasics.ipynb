{
 "cells": [
  {
   "cell_type": "code",
   "execution_count": 1,
   "id": "f5b13586-34f1-4a18-a980-2f1bbc24147a",
   "metadata": {},
   "outputs": [
    {
     "name": "stdout",
     "output_type": "stream",
     "text": [
      "Hello, world!\n"
     ]
    }
   ],
   "source": [
    "print(\"Hello, world!\")\n"
   ]
  },
  {
   "cell_type": "code",
   "execution_count": 2,
   "id": "c492d9e0-1ab8-4a57-a0c6-f456cf0c1e7d",
   "metadata": {},
   "outputs": [
    {
     "name": "stdout",
     "output_type": "stream",
     "text": [
      "2\n"
     ]
    },
    {
     "data": {
      "text/plain": [
       "int"
      ]
     },
     "execution_count": 2,
     "metadata": {},
     "output_type": "execute_result"
    }
   ],
   "source": [
    "x=2\n",
    "print(x)\n",
    "type(x)"
   ]
  },
  {
   "cell_type": "code",
   "execution_count": 6,
   "id": "80e8bdbb-6700-4aa2-9b13-dbcb88167299",
   "metadata": {},
   "outputs": [
    {
     "name": "stdout",
     "output_type": "stream",
     "text": [
      "10\n",
      "Kavitha\n"
     ]
    }
   ],
   "source": [
    "a=10\n",
    "b=\"Kavitha\"\n",
    "type(a)\n",
    "type(b)\n",
    "print(a)\n",
    "print(b)\n",
    "\n"
   ]
  },
  {
   "cell_type": "code",
   "execution_count": 8,
   "id": "284cc9c9-dba6-4f7b-be54-e0cb369922e3",
   "metadata": {},
   "outputs": [
    {
     "data": {
      "text/plain": [
       "str"
      ]
     },
     "execution_count": 8,
     "metadata": {},
     "output_type": "execute_result"
    }
   ],
   "source": [
    "y = \"This is a DS Class\"\n",
    "type(y)"
   ]
  },
  {
   "cell_type": "code",
   "execution_count": 9,
   "id": "d3acd766-7f6f-4c44-88ed-0659c632bd3f",
   "metadata": {},
   "outputs": [
    {
     "name": "stdout",
     "output_type": "stream",
     "text": [
      "This is a DS Class\n"
     ]
    }
   ],
   "source": [
    "y = \"This is a DS Class\"\n",
    "print(y)"
   ]
  },
  {
   "cell_type": "code",
   "execution_count": 11,
   "id": "47d95205-5120-4ffb-bb5f-82169b06a2c6",
   "metadata": {},
   "outputs": [
    {
     "data": {
      "text/plain": [
       "str"
      ]
     },
     "execution_count": 11,
     "metadata": {},
     "output_type": "execute_result"
    }
   ],
   "source": [
    "a,b,c='kavitha',12,19.2\n",
    "type(a)\n",
    "\n"
   ]
  },
  {
   "cell_type": "code",
   "execution_count": 12,
   "id": "0bf640ca-286a-4fca-8bff-3fc01243d00e",
   "metadata": {},
   "outputs": [
    {
     "data": {
      "text/plain": [
       "int"
      ]
     },
     "execution_count": 12,
     "metadata": {},
     "output_type": "execute_result"
    }
   ],
   "source": [
    "type(b)"
   ]
  },
  {
   "cell_type": "code",
   "execution_count": 13,
   "id": "b170b9d0-1ae6-4d9f-b5f5-b23c42934d25",
   "metadata": {},
   "outputs": [
    {
     "data": {
      "text/plain": [
       "float"
      ]
     },
     "execution_count": 13,
     "metadata": {},
     "output_type": "execute_result"
    }
   ],
   "source": [
    "type(c)"
   ]
  },
  {
   "cell_type": "code",
   "execution_count": 14,
   "id": "dc170e47-c2d8-4669-a254-03e920572483",
   "metadata": {},
   "outputs": [
    {
     "name": "stdout",
     "output_type": "stream",
     "text": [
      "kavitha\n"
     ]
    }
   ],
   "source": [
    "print(a)"
   ]
  },
  {
   "cell_type": "code",
   "execution_count": 15,
   "id": "578d1f14-3065-431c-822c-c8f716906c2b",
   "metadata": {},
   "outputs": [
    {
     "name": "stdout",
     "output_type": "stream",
     "text": [
      "12\n"
     ]
    }
   ],
   "source": [
    "print(b)"
   ]
  },
  {
   "cell_type": "code",
   "execution_count": 16,
   "id": "ec478359-5a62-4795-8605-fc04ae723929",
   "metadata": {},
   "outputs": [
    {
     "name": "stdout",
     "output_type": "stream",
     "text": [
      "19.2\n"
     ]
    }
   ],
   "source": [
    "print(c)"
   ]
  },
  {
   "cell_type": "code",
   "execution_count": 17,
   "id": "38cdd00d-b34b-4c8a-b867-4b7e84bce0f5",
   "metadata": {},
   "outputs": [
    {
     "name": "stdout",
     "output_type": "stream",
     "text": [
      "kavitha\n",
      "12\n",
      "19.2\n"
     ]
    }
   ],
   "source": [
    "print(a)\n",
    "print(b)\n",
    "print(c)"
   ]
  },
  {
   "cell_type": "code",
   "execution_count": 19,
   "id": "f79e8a1e-6b8a-40d4-8225-e72a45734c89",
   "metadata": {},
   "outputs": [
    {
     "name": "stdout",
     "output_type": "stream",
     "text": [
      "the value of x is 10 and y is 12\n"
     ]
    }
   ],
   "source": [
    "x=10\n",
    "y=12\n",
    "print('the value of x is {} and y is {}'.format(x,y))"
   ]
  },
  {
   "cell_type": "code",
   "execution_count": 20,
   "id": "1be375a8-2a74-4727-92a3-6837bc34d926",
   "metadata": {},
   "outputs": [
    {
     "name": "stdin",
     "output_type": "stream",
     "text": [
      "Enter the data: 17\n"
     ]
    },
    {
     "name": "stdout",
     "output_type": "stream",
     "text": [
      "Data entered by the user is: 17\n"
     ]
    }
   ],
   "source": [
    "a=input(\"Enter the data:\")\n",
    "print('Data entered by the user is:',a)"
   ]
  },
  {
   "cell_type": "code",
   "execution_count": 21,
   "id": "1f20e7c8-4ec3-48fc-9146-f94fc7159403",
   "metadata": {},
   "outputs": [
    {
     "name": "stdout",
     "output_type": "stream",
     "text": [
      "12\n"
     ]
    }
   ],
   "source": [
    "add=10+2\n",
    "print(add)"
   ]
  },
  {
   "cell_type": "code",
   "execution_count": 29,
   "id": "647036b5-1677-48ef-a3ed-5b069be6a7f7",
   "metadata": {},
   "outputs": [
    {
     "name": "stdout",
     "output_type": "stream",
     "text": [
      "30\n"
     ]
    }
   ],
   "source": [
    "a=10\n",
    "b=20\n",
    "add=a+b\n",
    "print(add)"
   ]
  },
  {
   "cell_type": "code",
   "execution_count": 30,
   "id": "600f4a20-dfdf-42e7-9187-c91fcaa5758b",
   "metadata": {},
   "outputs": [
    {
     "name": "stdout",
     "output_type": "stream",
     "text": [
      "-10\n"
     ]
    }
   ],
   "source": [
    "sub=a-b\n",
    "print(sub)"
   ]
  },
  {
   "cell_type": "code",
   "execution_count": 31,
   "id": "d089deba-f074-4ed5-9641-41175e9784fd",
   "metadata": {},
   "outputs": [
    {
     "name": "stdout",
     "output_type": "stream",
     "text": [
      "30\n"
     ]
    }
   ],
   "source": [
    "a+=b\n",
    "print(a)"
   ]
  },
  {
   "cell_type": "code",
   "execution_count": 28,
   "id": "6bbf389c-ab38-4f29-bef2-3e4ef6493acd",
   "metadata": {},
   "outputs": [
    {
     "name": "stdout",
     "output_type": "stream",
     "text": [
      "True\n",
      "False\n",
      "True\n",
      "False\n",
      "False\n",
      "True\n"
     ]
    }
   ],
   "source": [
    "print(a>b)\n",
    "print(a<b)\n",
    "print(a>=b)\n",
    "print(a<=b)\n",
    "print(a==b)\n",
    "print(a!=b)\n"
   ]
  },
  {
   "cell_type": "code",
   "execution_count": 32,
   "id": "255b8b3d-ef94-4b06-b4a2-752e3fad7bf8",
   "metadata": {},
   "outputs": [
    {
     "name": "stdout",
     "output_type": "stream",
     "text": [
      "Name: Alice, Age: 25, Height: 5.6, Student: True\n"
     ]
    }
   ],
   "source": [
    "name = \"Alice\"\n",
    "age = 25\n",
    "height = 5.6\n",
    "is_student = True\n",
    "\n",
    "print(f\"Name: {name}, Age: {age}, Height: {height}, Student: {is_student}\")"
   ]
  },
  {
   "cell_type": "code",
   "execution_count": 33,
   "id": "d24300dd-cd51-4fda-bbc3-d17430425835",
   "metadata": {},
   "outputs": [
    {
     "name": "stdout",
     "output_type": "stream",
     "text": [
      "Addition: 13\n",
      "Subtraction: 7\n",
      "Multiplication: 30\n",
      "Division: 3.3333333333333335\n",
      "Modulus: 1\n",
      "Exponent: 1000\n"
     ]
    }
   ],
   "source": [
    "a = 10\n",
    "b = 3\n",
    "\n",
    "print(\"Addition:\", a + b)\n",
    "print(\"Subtraction:\", a - b)\n",
    "print(\"Multiplication:\", a * b)\n",
    "print(\"Division:\", a / b)\n",
    "print(\"Modulus:\", a % b)\n",
    "print(\"Exponent:\", a ** b)"
   ]
  },
  {
   "cell_type": "code",
   "execution_count": 34,
   "id": "d479565c-c527-45a3-96b5-9169ac789c78",
   "metadata": {},
   "outputs": [
    {
     "name": "stdout",
     "output_type": "stream",
     "text": [
      "19\n"
     ]
    }
   ],
   "source": [
    "name = \" Goutham Kumar ABC \"\n",
    "print(len(name))"
   ]
  },
  {
   "cell_type": "code",
   "execution_count": 35,
   "id": "7582015a-c47a-4529-918e-f88bb20ad144",
   "metadata": {},
   "outputs": [
    {
     "name": "stdout",
     "output_type": "stream",
     "text": [
      " GOUTHAM KUMAR ABC \n",
      " goutham kumar abc \n",
      "Goutham Kumar ABC\n",
      "Goutham Kumar ABC \n",
      " Goutham Kumar ABC\n"
     ]
    }
   ],
   "source": [
    "print(name.upper())\n",
    "print(name.lower())\n",
    "print(name.strip())\n",
    "print(name.lstrip())\n",
    "print(name.rstrip())"
   ]
  },
  {
   "cell_type": "code",
   "execution_count": 36,
   "id": "0c0b1199-c88e-41e1-bf98-2dfcc13f1796",
   "metadata": {},
   "outputs": [
    {
     "name": "stdout",
     "output_type": "stream",
     "text": [
      "apple,banana,cherry\n",
      "['apple', 'banana', 'cherry']\n"
     ]
    }
   ],
   "source": [
    "csv_data = \"apple,banana,cherry\"\n",
    "print(csv_data)\n",
    "\n",
    "print(csv_data.split(','))"
   ]
  },
  {
   "cell_type": "code",
   "execution_count": 38,
   "id": "bafca373-07a5-4c5d-8d62-2e9c996278fa",
   "metadata": {},
   "outputs": [
    {
     "name": "stdout",
     "output_type": "stream",
     "text": [
      "apple,banana,cherry\n"
     ]
    }
   ],
   "source": [
    "join_data = ['apple', 'banana', 'cherry']\n",
    "\n",
    "print(\",\".join(join_data))"
   ]
  },
  {
   "cell_type": "code",
   "execution_count": 39,
   "id": "e86f4b73-df5e-45c1-9cfb-3ae4978141f8",
   "metadata": {},
   "outputs": [
    {
     "data": {
      "text/plain": [
       "4"
      ]
     },
     "execution_count": 39,
     "metadata": {},
     "output_type": "execute_result"
    }
   ],
   "source": [
    "\"student\".find(\"e\")"
   ]
  },
  {
   "cell_type": "code",
   "execution_count": 40,
   "id": "dacf5103-1998-491e-a41f-50c1ef5c4e7e",
   "metadata": {},
   "outputs": [
    {
     "data": {
      "text/plain": [
       "3"
      ]
     },
     "execution_count": 40,
     "metadata": {},
     "output_type": "execute_result"
    }
   ],
   "source": [
    "\"banana\".count(\"a\")"
   ]
  },
  {
   "cell_type": "code",
   "execution_count": 41,
   "id": "f3885f90-9a75-4567-b9de-ad8fcb0ba1c7",
   "metadata": {},
   "outputs": [
    {
     "data": {
      "text/plain": [
       "False"
      ]
     },
     "execution_count": 41,
     "metadata": {},
     "output_type": "execute_result"
    }
   ],
   "source": [
    "\"welcome\".startswith(\"ye\")"
   ]
  },
  {
   "cell_type": "code",
   "execution_count": 42,
   "id": "a8910ed6-57c6-46c2-b69d-3a94c4f7cf71",
   "metadata": {},
   "outputs": [
    {
     "data": {
      "text/plain": [
       "'Welcome To Ds'"
      ]
     },
     "execution_count": 42,
     "metadata": {},
     "output_type": "execute_result"
    }
   ],
   "source": [
    "\"welcome to ds\".title()"
   ]
  },
  {
   "cell_type": "code",
   "execution_count": 43,
   "id": "d95e4692-a8bd-4674-84de-ffb55fe3ea20",
   "metadata": {},
   "outputs": [
    {
     "name": "stdout",
     "output_type": "stream",
     "text": [
      "Hello, my name is Goutham and my age is 30\n"
     ]
    }
   ],
   "source": [
    "name = \"Goutham\"\n",
    "age = 30\n",
    "\n",
    "print(f\"Hello, my name is {name} and my age is {age}\")"
   ]
  },
  {
   "cell_type": "code",
   "execution_count": 44,
   "id": "232bf3f8-13f0-41b3-bc1b-87b8a74c76b6",
   "metadata": {},
   "outputs": [
    {
     "name": "stdout",
     "output_type": "stream",
     "text": [
      "False\n",
      "True\n"
     ]
    }
   ],
   "source": [
    "print(\"Student1\".isalpha())\n",
    "print(\"Student\".isalpha())"
   ]
  },
  {
   "cell_type": "code",
   "execution_count": 45,
   "id": "504ed77a-2211-4034-ba6c-2bd433131065",
   "metadata": {},
   "outputs": [
    {
     "name": "stdout",
     "output_type": "stream",
     "text": [
      "[5, 4, 3, 2, 1]\n"
     ]
    }
   ],
   "source": [
    "list = [1,2,3,4,5]\n",
    "\n",
    "# builtin methods and use python langauge features\n",
    "\n",
    "list.reverse()\n",
    "print(list)"
   ]
  },
  {
   "cell_type": "code",
   "execution_count": 47,
   "id": "bff41a6a-8598-4dd9-b7bd-86ebe7f04cbc",
   "metadata": {},
   "outputs": [
    {
     "name": "stdout",
     "output_type": "stream",
     "text": [
      "You qualify for a student discount.\n"
     ]
    }
   ],
   "source": [
    "##AND Returns True only if both conditions are True.\n",
    "age = 25\n",
    "is_student = True\n",
    "\n",
    "if age < 30 and is_student:\n",
    "    print(\"You qualify for a student discount.\")\n",
    "else:\n",
    "    print(\"No discount for you.\")"
   ]
  },
  {
   "cell_type": "code",
   "execution_count": 49,
   "id": "f14aac40-1327-48bf-a953-8edf22f01ed6",
   "metadata": {},
   "outputs": [
    {
     "name": "stdout",
     "output_type": "stream",
     "text": [
      "You can enter the concert.\n"
     ]
    }
   ],
   "source": [
    "##OR Returns True if at least one condition is True.\n",
    "has_ticket = False\n",
    "is_vip = True\n",
    "\n",
    "if has_ticket or is_vip:\n",
    "    print(\"You can enter the concert.\")\n",
    "else:\n",
    "    print(\"Access denied.\")"
   ]
  },
  {
   "cell_type": "code",
   "execution_count": 50,
   "id": "1b5019d0-f077-4a1d-9683-b555047daf75",
   "metadata": {},
   "outputs": [
    {
     "name": "stdout",
     "output_type": "stream",
     "text": [
      "You don't need an umbrella.\n"
     ]
    }
   ],
   "source": [
    "#Not-Inverts a Boolean value. If the expression is True, not makes it False.\n",
    "is_raining = False\n",
    "\n",
    "if not is_raining:\n",
    "    print(\"You don't need an umbrella.\")\n",
    "else:\n",
    "    print(\"Bring an umbrella!\")"
   ]
  },
  {
   "cell_type": "code",
   "execution_count": 52,
   "id": "922ab130-7f53-4bb9-a698-fd8749cf58a1",
   "metadata": {},
   "outputs": [
    {
     "name": "stdout",
     "output_type": "stream",
     "text": [
      "Access denied.\n"
     ]
    }
   ],
   "source": [
    "age =12\n",
    "has_id = True\n",
    "banned = False\n",
    "\n",
    "if (age >= 18 and has_id) and not banned:\n",
    "    print(\"Access granted.\")\n",
    "else:\n",
    "    print(\"Access denied.\")"
   ]
  },
  {
   "cell_type": "code",
   "execution_count": 54,
   "id": "d0e90e5a-35ec-4caf-821d-26083fabcabf",
   "metadata": {},
   "outputs": [
    {
     "name": "stdout",
     "output_type": "stream",
     "text": [
      "Access granted.\n"
     ]
    }
   ],
   "source": [
    "age =20\n",
    "has_id = True\n",
    "banned = False\n",
    "\n",
    "if (age >= 18 and has_id) and not banned:\n",
    "    print(\"Access granted.\")\n",
    "else:\n",
    "    print(\"Access denied.\")"
   ]
  },
  {
   "cell_type": "code",
   "execution_count": 56,
   "id": "26f97eb3-43cc-47e3-b0bb-4ede9fa5cd0b",
   "metadata": {},
   "outputs": [
    {
     "name": "stdout",
     "output_type": "stream",
     "text": [
      "Access denied.\n"
     ]
    }
   ],
   "source": [
    "age =12\n",
    "has_id = True\n",
    "banned = True\n",
    "\n",
    "if (age >= 18 and has_id) and not banned:\n",
    "    print(\"Access granted.\")\n",
    "else:\n",
    "    print(\"Access denied.\")"
   ]
  },
  {
   "cell_type": "code",
   "execution_count": 58,
   "id": "5b5070b7-ce7b-473c-9e5b-bb9a45930177",
   "metadata": {},
   "outputs": [
    {
     "name": "stdout",
     "output_type": "stream",
     "text": [
      "Access denied.\n"
     ]
    }
   ],
   "source": [
    "age =20\n",
    "has_id = True\n",
    "banned = True\n",
    "\n",
    "if (age >= 18 and has_id) and not banned:\n",
    "    print(\"Access granted.\")\n",
    "else:\n",
    "    print(\"Access denied.\")"
   ]
  }
 ],
 "metadata": {
  "kernelspec": {
   "display_name": "Python [conda env:base] *",
   "language": "python",
   "name": "conda-base-py"
  },
  "language_info": {
   "codemirror_mode": {
    "name": "ipython",
    "version": 3
   },
   "file_extension": ".py",
   "mimetype": "text/x-python",
   "name": "python",
   "nbconvert_exporter": "python",
   "pygments_lexer": "ipython3",
   "version": "3.12.7"
  }
 },
 "nbformat": 4,
 "nbformat_minor": 5
}
