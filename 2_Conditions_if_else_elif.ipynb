{
 "cells": [
  {
   "cell_type": "code",
   "execution_count": 1,
   "id": "b406fba2-3378-4792-a510-46adadd1f49e",
   "metadata": {},
   "outputs": [
    {
     "name": "stdout",
     "output_type": "stream",
     "text": [
      "x is greater than 5\n"
     ]
    }
   ],
   "source": [
    "x = 10\n",
    "\n",
    "if x > 5:\n",
    "    print(\"x is greater than 5\")"
   ]
  },
  {
   "cell_type": "code",
   "execution_count": 2,
   "id": "0051db96-584c-41cc-a795-29a5bc6a7b80",
   "metadata": {},
   "outputs": [
    {
     "name": "stdout",
     "output_type": "stream",
     "text": [
      "x is 5 or less\n"
     ]
    }
   ],
   "source": [
    "x = 3\n",
    "\n",
    "if x > 5:\n",
    "    print(\"x is greater than 5\")\n",
    "else:\n",
    "    print(\"x is 5 or less\")"
   ]
  },
  {
   "cell_type": "code",
   "execution_count": 3,
   "id": "375560c7-ea32-4cbf-bf02-badef3689667",
   "metadata": {},
   "outputs": [
    {
     "name": "stdout",
     "output_type": "stream",
     "text": [
      "x is greater than 5 but less than or equal to 10\n"
     ]
    }
   ],
   "source": [
    "x = 7\n",
    "\n",
    "if x > 10:\n",
    "    print(\"x is greater than 10\")\n",
    "elif x > 5:\n",
    "    print(\"x is greater than 5 but less than or equal to 10\")\n",
    "else:\n",
    "    print(\"x is 5 or less\")"
   ]
  },
  {
   "cell_type": "code",
   "execution_count": 4,
   "id": "f7a44ec4-1c94-471e-84f8-5a3c68fa91f3",
   "metadata": {},
   "outputs": [
    {
     "name": "stdout",
     "output_type": "stream",
     "text": [
      "Grade: C\n"
     ]
    }
   ],
   "source": [
    "##Grade Checker\n",
    "score = 78\n",
    "\n",
    "if score >= 90:\n",
    "    print(\"Grade: A\")\n",
    "elif score >= 80:\n",
    "    print(\"Grade: B\")\n",
    "elif score >= 70:\n",
    "    print(\"Grade: C\")\n",
    "elif score >= 60:\n",
    "    print(\"Grade: D\")\n",
    "else:\n",
    "    print(\"Grade: F\")"
   ]
  },
  {
   "cell_type": "code",
   "execution_count": 5,
   "id": "8c552b45-7c04-4ad9-8bab-906df7c97cf9",
   "metadata": {},
   "outputs": [
    {
     "name": "stdout",
     "output_type": "stream",
     "text": [
      "Income: $55000, Tax Rate: 22.0%, Tax Due: $12100.0\n"
     ]
    }
   ],
   "source": [
    "##Tax Bracket Calculator\n",
    "income = 55000\n",
    "\n",
    "if income <= 9875:\n",
    "    tax_rate = 0.10\n",
    "elif income <= 40125:\n",
    "    tax_rate = 0.12\n",
    "elif income <= 85525:\n",
    "    tax_rate = 0.22\n",
    "else:\n",
    "    tax_rate = 0.24\n",
    "\n",
    "tax = income * tax_rate\n",
    "print(f\"Income: ${income}, Tax Rate: {tax_rate*100}%, Tax Due: ${tax}\")"
   ]
  },
  {
   "cell_type": "code",
   "execution_count": 6,
   "id": "29411787-2256-484c-9813-ca31bcdab4b5",
   "metadata": {},
   "outputs": [
    {
     "name": "stdout",
     "output_type": "stream",
     "text": [
      "Good afternoon!\n"
     ]
    }
   ],
   "source": [
    "##Greeting Based on Time\n",
    "\n",
    "hour = 15  # 24-hour format\n",
    "\n",
    "if hour < 12:\n",
    "    print(\"Good morning!\")\n",
    "elif hour < 18:\n",
    "    print(\"Good afternoon!\")\n",
    "elif hour < 21:\n",
    "    print(\"Good evening!\")\n",
    "else:\n",
    "    print(\"Good night!\")"
   ]
  },
  {
   "cell_type": "code",
   "execution_count": 7,
   "id": "98b6d5a7-8bb9-4a69-b6c3-3690f13c8468",
   "metadata": {},
   "outputs": [
    {
     "name": "stdout",
     "output_type": "stream",
     "text": [
      "Loan Approved ✅\n"
     ]
    }
   ],
   "source": [
    "##Loan Eligibility Checker\n",
    "\n",
    "age = 30\n",
    "credit_score = 720\n",
    "income = 40000\n",
    "\n",
    "if age >= 21:\n",
    "    if credit_score >= 700:\n",
    "        if income >= 30000:\n",
    "            print(\"Loan Approved ✅\")\n",
    "        else:\n",
    "            print(\"Loan Denied: Insufficient income.\")\n",
    "    else:\n",
    "        print(\"Loan Denied: Low credit score.\")\n",
    "else:\n",
    "    print(\"Loan Denied: Must be at least 21 years old.\")"
   ]
  },
  {
   "cell_type": "code",
   "execution_count": 8,
   "id": "4d2236ee-2a80-4f8a-8bcd-184f9abb9d6a",
   "metadata": {},
   "outputs": [
    {
     "name": "stdout",
     "output_type": "stream",
     "text": [
      "Shipping to USA will cost $10\n"
     ]
    }
   ],
   "source": [
    "##Shipping Cost Calculator\n",
    "\n",
    "country = \"USA\"\n",
    "weight = 2.5  # in kg\n",
    "\n",
    "if country == \"USA\":\n",
    "    if weight <= 1:\n",
    "        cost = 5\n",
    "    elif weight <= 5:\n",
    "        cost = 10\n",
    "    else:\n",
    "        cost = 20\n",
    "elif country == \"Canada\":\n",
    "    cost = 15\n",
    "else:\n",
    "    cost = 25\n",
    "\n",
    "print(f\"Shipping to {country} will cost ${cost}\")"
   ]
  },
  {
   "cell_type": "code",
   "execution_count": 9,
   "id": "45eb63e6-ec8b-4634-8648-8124966e98f9",
   "metadata": {},
   "outputs": [
    {
     "name": "stdout",
     "output_type": "stream",
     "text": [
      "Player 1 wins!\n"
     ]
    }
   ],
   "source": [
    "##Rock-Paper-Scissors Game Logic\n",
    "\n",
    "player1 = \"rock\"\n",
    "player2 = \"scissors\"\n",
    "\n",
    "if player1 == player2:\n",
    "    print(\"It's a tie!\")\n",
    "elif (player1 == \"rock\" and player2 == \"scissors\") or \\\n",
    "     (player1 == \"scissors\" and player2 == \"paper\") or \\\n",
    "     (player1 == \"paper\" and player2 == \"rock\"):\n",
    "    print(\"Player 1 wins!\")\n",
    "else:\n",
    "    print(\"Player 2 wins!\")"
   ]
  }
 ],
 "metadata": {
  "kernelspec": {
   "display_name": "Python [conda env:base] *",
   "language": "python",
   "name": "conda-base-py"
  },
  "language_info": {
   "codemirror_mode": {
    "name": "ipython",
    "version": 3
   },
   "file_extension": ".py",
   "mimetype": "text/x-python",
   "name": "python",
   "nbconvert_exporter": "python",
   "pygments_lexer": "ipython3",
   "version": "3.12.7"
  }
 },
 "nbformat": 4,
 "nbformat_minor": 5
}
